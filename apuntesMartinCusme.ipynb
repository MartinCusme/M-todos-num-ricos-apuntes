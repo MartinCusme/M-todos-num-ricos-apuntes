{
 "cells": [
  {
   "cell_type": "markdown",
   "id": "30054339",
   "metadata": {},
   "source": [
    "# Metodos Numéricos \n",
    "Apuntes codificados de Martín Cusme\n",
    "## Metodos Analiticos\n",
    "Manejo de grandes datos; Solucion exacta y conocida. Ejemplo:\n",
    "\n"
   ]
  },
  {
   "cell_type": "code",
   "execution_count": 2,
   "id": "0c455a27",
   "metadata": {},
   "outputs": [
    {
     "name": "stdout",
     "output_type": "stream",
     "text": [
      "[-1, 1]\n"
     ]
    }
   ],
   "source": [
    "import sympy as sp\n",
    "\n",
    "a = sp.symbols('a')\n",
    "ecuacion = a**2 - 1\n",
    "solucion = sp.solve(ecuacion, a)\n",
    "print(solucion)\n"
   ]
  },
  {
   "cell_type": "markdown",
   "id": "16f22d79",
   "metadata": {},
   "source": [
    "## Metodos Numéricos\n"
   ]
  },
  {
   "cell_type": "code",
   "execution_count": 15,
   "id": "636ec3d5",
   "metadata": {},
   "outputs": [
    {
     "name": "stdout",
     "output_type": "stream",
     "text": [
      "-a**3/3\n"
     ]
    }
   ],
   "source": [
    "import sympy as sp\n",
    "#Libreria utilizada solo en este ejemplo\n",
    "\n",
    "x = sp.symbols('x')\n",
    "integralDeX = sp.integrate(-a**2 )\n",
    "print(integralDeX)\n"
   ]
  },
  {
   "cell_type": "markdown",
   "id": "3e7109a7",
   "metadata": {},
   "source": [
    "# Tipos de errores\n",
    "## Error de truncamiento\n",
    "se tomará la constante 2(e) para este ejemplo y 5  cifras significativas\n",
    "\n",
    "No existe función en python que nos permita truncar por lo tanto se lo tiene que hacer manualmente"
   ]
  },
  {
   "cell_type": "code",
   "execution_count": 68,
   "id": "ef994382",
   "metadata": {},
   "outputs": [
    {
     "name": "stdout",
     "output_type": "stream",
     "text": [
      "5.4365\n"
     ]
    }
   ],
   "source": [
    "import math\n",
    "numero = 2*math.e\n",
    "def truncar(numero, decimales):\n",
    "    factor = 10 ** decimales\n",
    "    return float(int(numero * factor)) / factor\n",
    "print(truncar(numero, 4))\n"
   ]
  },
  {
   "cell_type": "markdown",
   "id": "1d09df23",
   "metadata": {},
   "source": [
    "## Error de redondeo\n",
    "\n"
   ]
  },
  {
   "cell_type": "code",
   "execution_count": 55,
   "id": "e27f7d80",
   "metadata": {},
   "outputs": [
    {
     "name": "stdout",
     "output_type": "stream",
     "text": [
      "5.4366\n"
     ]
    }
   ],
   "source": [
    "import math\n",
    "numero = 2*math.e\n",
    "numeroRedondeado = round(numero, 4)\n",
    "print(numeroRedondeado)  \n"
   ]
  },
  {
   "cell_type": "markdown",
   "id": "02966108",
   "metadata": {},
   "source": [
    "## Representacion Numerica"
   ]
  },
  {
   "cell_type": "code",
   "execution_count": 81,
   "id": "fe14c640",
   "metadata": {},
   "outputs": [
    {
     "name": "stdout",
     "output_type": "stream",
     "text": [
      "El número representado es: -0.40625\n"
     ]
    }
   ],
   "source": [
    "def convertir_a_decimal(bit_signo, exp_codificado, frac):\n",
    "    # Sesgo del exponente en IEEE 754 simple precisión\n",
    "    sesgo = 127\n",
    "    exp_real = exp_codificado - sesgo\n",
    "    # La mantisa incluye el bit '1' seguido de la fracción\n",
    "    mantisa_valor = 1 + frac\n",
    "    # Se calcula el número en decimal\n",
    "    numero = ((-1) ** bit_signo) * (2 ** exp_real) * mantisa_valor\n",
    "    return numero\n",
    "#Ejemplo\n",
    "bit_signo = 1\n",
    "exp_codificado = 125\n",
    "frac = 0.625 \n",
    "valor_resultado = convertir_a_decimal(bit_signo, exp_codificado, frac)\n",
    "print(f\"El número representado es: {valor_resultado}\")\n",
    "\n"
   ]
  },
  {
   "cell_type": "markdown",
   "id": "982a0cd7",
   "metadata": {},
   "source": [
    "# Calculo de error\n",
    "## Error real"
   ]
  },
  {
   "cell_type": "code",
   "execution_count": 129,
   "id": "f4e4f7a2",
   "metadata": {},
   "outputs": [
    {
     "name": "stdout",
     "output_type": "stream",
     "text": [
      "Valor real: 5.43656365691809\n",
      "Valor aproximado: 5.437\n",
      "Error real: -0.0004363430819100955\n"
     ]
    }
   ],
   "source": [
    "import math\n",
    "def calcularErrorReal(valorReal, valorAproximado):\n",
    "    errorReal = valorReal - valorAproximado\n",
    "    return errorReal\n",
    "\n",
    "valorReal = 2 * math.e  #Valor exacto\n",
    "valorAproximado = round(valorReal, 3)  #Valor aproximado con 3 cifras decimales por redondeo\n",
    "\n",
    "errorReal = calcularErrorReal(valorReal, valorAproximado)\n",
    "print(f\"Valor real: {valorReal}\")\n",
    "print(f\"Valor aproximado: {valorAproximado}\")\n",
    "print(f\"Error real: {errorReal}\")\n",
    "\n"
   ]
  },
  {
   "cell_type": "markdown",
   "id": "47d7fc27",
   "metadata": {},
   "source": [
    "## Error absoluto"
   ]
  },
  {
   "cell_type": "code",
   "execution_count": 127,
   "id": "5c67ccca",
   "metadata": {},
   "outputs": [
    {
     "name": "stdout",
     "output_type": "stream",
     "text": [
      "Valor real: 5.43656365691809\n",
      "Valor aproximado: 5.437\n",
      "Error absoluto: 0.0004\n"
     ]
    }
   ],
   "source": [
    "import math\n",
    "\n",
    "def ErrorAbsoluto(valorReal, valorAproximado):\n",
    "    errorAbsoluto = abs(valorReal - valorAproximado)\n",
    "    return errorAbsoluto\n",
    "\n",
    "valorReal = 2*math.e  #Valor exacto\n",
    "valorAproximado = round(valorReal, 3)  #Valor aproximado con 3 cifras decimales por redondeo\n",
    "errorAbsoluto = calcularErrorAbsoluto(valorReal, valorAproximado)\n",
    "print(f\"Valor real: {valorReal:}\")\n",
    "print(f\"Valor aproximado: {valorAproximado:}\")\n",
    "print(f\"Error absoluto: {errorAbsoluto:.4f}\")\n"
   ]
  },
  {
   "cell_type": "markdown",
   "id": "83de5266",
   "metadata": {},
   "source": [
    "## Error relativo"
   ]
  },
  {
   "cell_type": "code",
   "execution_count": 131,
   "id": "0151c663",
   "metadata": {},
   "outputs": [
    {
     "name": "stdout",
     "output_type": "stream",
     "text": [
      "Valor real: 5.43656365691809\n",
      "Valor aproximado: 5.437\n",
      "Error relativo: 0.0001\n"
     ]
    }
   ],
   "source": [
    "import math\n",
    "\n",
    "def ErrorRelativo(valorReal, valorAproximado):\n",
    "    errorRelativo = abs((valorReal - valorAproximado) / valorReal)\n",
    "    return errorRelativo\n",
    "\n",
    "valorReal = 2 * math.e  #Valor exacto\n",
    "valorAproximado = round(valorReal, 3) #Valor aproximado con 3 cifras decimales por redondeo\n",
    "\n",
    "errorRelativo = calcularErrorRelativo(valorReal, valorAproximado)\n",
    "print(f\"Valor real: {valorReal:}\")\n",
    "print(f\"Valor aproximado: {valorAproximado:}\")\n",
    "print(f\"Error relativo: {errorRelativo:.4f}\")\n",
    "\n",
    "\n"
   ]
  },
  {
   "cell_type": "markdown",
   "id": "cd4dc35a",
   "metadata": {},
   "source": [
    "## Error relativo porcentual\n"
   ]
  },
  {
   "cell_type": "code",
   "execution_count": 133,
   "id": "95157140",
   "metadata": {},
   "outputs": [
    {
     "name": "stdout",
     "output_type": "stream",
     "text": [
      "Valor real: 5.43656365691809\n",
      "Valor aproximado: 5.437\n",
      "Error relativo porcentual: 0.0080 %\n"
     ]
    }
   ],
   "source": [
    "import math\n",
    "\n",
    "def ErrorRelativoPorcentual(valorReal, valorAproximado):\n",
    "    errorRelativoPorcentual = abs((valorReal - valorAproximado) / valorReal)*100\n",
    "    return errorRelativoPorcentual\n",
    "\n",
    "valorReal = 2*math.e  #Valor exacto\n",
    "valorAproximado = round(valorReal, 3)  #Valor aproximado con 3 cifras decimales por redondeo\n",
    "\n",
    "errorRelativoPorcentual = ErrorRelativoPorcentual(valorReal, valorAproximado)\n",
    "print(f\"Valor real: {valorReal:}\")\n",
    "print(f\"Valor aproximado: {valorAproximado:}\")\n",
    "print(f\"Error relativo porcentual: {errorRelativoPorcentual:.4f} %\")\n"
   ]
  },
  {
   "cell_type": "markdown",
   "id": "95e60687",
   "metadata": {},
   "source": [
    "\n",
    "## Representacion Numerica en 32 bits para el número 160.5\n"
   ]
  },
  {
   "cell_type": "code",
   "execution_count": 161,
   "id": "31fbfd9b",
   "metadata": {},
   "outputs": [
    {
     "name": "stdout",
     "output_type": "stream",
     "text": [
      "Representación IEEE 754 en 32 bits de 160.5: 01000011001000001000000000000000\n"
     ]
    }
   ],
   "source": [
    "def parteEnteraBinaria(entero):\n",
    "    return bin(entero)[2:] if entero != 0 else \"0\"\n",
    "\n",
    "def parteDecimalBinaria(decimal):\n",
    "    binario = \"\"\n",
    "    while decimal and len(binario) < 23:\n",
    "        decimal *= 2\n",
    "        bit = int(decimal)\n",
    "        binario += str(bit)\n",
    "        decimal -= bit\n",
    "    return binario\n",
    "\n",
    "def aIEEE754(numero):\n",
    "    signo = \"0\" if numero >= 0 else \"1\"\n",
    "    numero = abs(numero)\n",
    "    \n",
    "    parteEntera = int(numero)\n",
    "    parteDecimal = numero - parteEntera\n",
    "\n",
    "    binEntera = parteEnteraBinaria(parteEntera)\n",
    "    binDecimal = parteDecimalBinaria(parteDecimal)\n",
    "\n",
    "    if parteEntera > 0:\n",
    "        normalizado = binEntera + binDecimal\n",
    "        exponente = len(binEntera) - 1\n",
    "        mantisa = normalizado[1:24].ljust(23, \"0\")\n",
    "    else:\n",
    "        posPrimerUno = binDecimal.find(\"1\")\n",
    "        exponente = -(posPrimerUno + 1)\n",
    "        mantisa = binDecimal[posPrimerUno + 1 : posPrimerUno + 24].ljust(23, \"0\")\n",
    "    \n",
    "    expSesgado = f\"{exponente + 127:08b}\"\n",
    "    return signo + expSesgado + mantisa\n",
    "\n",
    "# Número para transformar:\n",
    "numero = 160.5\n",
    "ieee = aIEEE754(numero)\n",
    "print(f\"Representación IEEE 754 en 32 bits de {numero}: {ieee}\")\n"
   ]
  },
  {
   "cell_type": "markdown",
   "id": "be16d2e0",
   "metadata": {},
   "source": [
    "## Representacion Numerica en 64 bits para el número 160.5\n"
   ]
  },
  {
   "cell_type": "code",
   "execution_count": 163,
   "id": "64d49b10",
   "metadata": {},
   "outputs": [
    {
     "name": "stdout",
     "output_type": "stream",
     "text": [
      "Representación IEEE 754 (64 bits) de 160.5:\n",
      "Signo (1 bit): 0\n",
      "Exponente (11 bits): 10000000110\n",
      "Mantisa (52 bits): 0100000100000000000000000000000000000000000000000000\n",
      "Representación IEEE 754 64 bits de 160.5: 0100000001100100000100000000000000000000000000000000000000000000\n"
     ]
    }
   ],
   "source": [
    "def binEntera(entero):\n",
    "    return bin(int(entero))[2:] if entero != 0 else \"0\"\n",
    "\n",
    "def binDecimal(decimal, precision=52):\n",
    "    binario = \"\"\n",
    "    while decimal and len(binario) < precision:\n",
    "        decimal *= 2\n",
    "        bit = int(decimal)\n",
    "        binario += str(bit)\n",
    "        decimal -= bit\n",
    "    return binario\n",
    "\n",
    "def aIEEE64(numero):\n",
    "    signo = '0' if numero >= 0 else '1'\n",
    "    numero = abs(numero)\n",
    "\n",
    "    parteEntera = int(numero)\n",
    "    parteDecimal = numero - parteEntera\n",
    "\n",
    "    binEnter = binEntera(parteEntera)\n",
    "    binDec = binDecimal(parteDecimal)\n",
    "\n",
    "    if parteEntera > 0:\n",
    "        mantisaCompleta = binEnter + binDec\n",
    "        exponente = len(binEnter) - 1\n",
    "        mantisa = mantisaCompleta[1:53].ljust(52, '0')\n",
    "    else:\n",
    "        pos = binDec.find('1')\n",
    "        if pos == -1:\n",
    "            exponente = 0\n",
    "            mantisa = '0' * 52\n",
    "        else:\n",
    "            exponente = -(pos + 1)\n",
    "            mantisa = binDec[pos+1:pos+53].ljust(52, '0')\n",
    "\n",
    "    expSesgado = exponente + 1023\n",
    "    expBin = f\"{expSesgado:011b}\"\n",
    "\n",
    "    return signo + expBin + mantisa\n",
    "\n",
    "# Número para transformar\n",
    "numero = 160.5\n",
    "ieee64 = aIEEE64(numero)\n",
    "\n",
    "print(f\"Representación IEEE 754 (64 bits) de {numero}:\")\n",
    "print(f\"Signo (1 bit): {ieee64[0]}\")\n",
    "print(f\"Exponente (11 bits): {ieee64[1:12]}\")\n",
    "print(f\"Mantisa (52 bits): {ieee64[12:]}\")\n",
    "print(f\"Representación IEEE 754 64 bits de {numero}: {ieee64}\")\n"
   ]
  },
  {
   "cell_type": "markdown",
   "id": "35f82a08",
   "metadata": {},
   "source": [
    "## Aritmética de Computador\n"
   ]
  },
  {
   "cell_type": "code",
   "execution_count": 169,
   "id": "5df7aac4",
   "metadata": {},
   "outputs": [
    {
     "name": "stdout",
     "output_type": "stream",
     "text": [
      "Números normalizados: 0.82353, 0.8235\n",
      "Suma: 0.164703\n",
      "Resta: 2.999999999997449e-05\n",
      "Multiplicación: 0.678176955\n",
      "División: 0.10000364298724955\n",
      "Resta real: 3.141176470589091e-05\n",
      "Resta aproximada: 2.999999999997449e-05\n",
      "Error relativo porcentual: 4.494382022579134%\n"
     ]
    }
   ],
   "source": [
    "def normalizar(num):\n",
    "    if num == 0:\n",
    "        return 0.0\n",
    "    while abs(num) >= 1:\n",
    "        num /= 10\n",
    "    return num\n",
    "\n",
    "def suma(a, b):\n",
    "    return normalizar(a + b)\n",
    "\n",
    "def resta(a, b):\n",
    "    return normalizar(a - b)\n",
    "\n",
    "def multiplicar(a, b):\n",
    "    return normalizar(a * b)\n",
    "\n",
    "def dividir(a, b):\n",
    "    if b == 0:\n",
    "        raise ValueError(\"No se puede dividir entre cero\")\n",
    "    return normalizar(a / b)\n",
    "\n",
    "def errorRelativoPorcentual(real, aprox):\n",
    "    if real == 0:\n",
    "        raise ValueError(\"El valor real no puede ser cero para calcular el error relativo.\")\n",
    "    return abs((real - aprox) / real) * 100\n",
    "\n",
    "# Datos iniciales\n",
    "numAprox = 0.82353\n",
    "numReal = 14/17\n",
    "otroAprox = 0.82350\n",
    "otroReal = 0.823498\n",
    "\n",
    "# Convertir a formato normalizado\n",
    "flotA = normalizar(numAprox)\n",
    "flotB = normalizar(otroAprox)\n",
    "\n",
    "print(f\"Números normalizados: {flotA}, {flotB}\")\n",
    "print(f\"Suma: {suma(flotA, flotB)}\")\n",
    "print(f\"Resta: {resta(flotA, flotB)}\")\n",
    "print(f\"Multiplicación: {multiplicar(flotA, flotB)}\")\n",
    "print(f\"División: {dividir(flotA, flotB)}\")\n",
    "\n",
    "# Resta aproximada y error relativo porcentual\n",
    "restaAprox = resta(flotA, flotB)\n",
    "valorReal = numReal - otroReal\n",
    "error = errorRelativoPorcentual(valorReal, restaAprox)\n",
    "\n",
    "print(f\"Resta real: {valorReal}\")\n",
    "print(f\"Resta aproximada: {restaAprox}\")\n",
    "print(f\"Error relativo porcentual: {error}%\")\n"
   ]
  },
  {
   "cell_type": "markdown",
   "id": "cf58d7ca",
   "metadata": {},
   "source": [
    "## Convergencia, Divergencia y Tolerancia\n",
    "**Convergencia:** Si al aumentar el numero de iteracion, los resultados se acercan cada vez mas a la solucion exacta\n",
    "\n",
    "**Diverge:** Si los resultados se alejan indefinidamente o no se estabilizan.\n",
    "\n",
    "**Tolerancia:** Es el limite aceptable del error que se impone para detener el metodo cuando se alcanza una solucion suficientemente buena, para ello se usa criterio de parada."
   ]
  },
  {
   "cell_type": "code",
   "execution_count": 156,
   "id": "91d2f491",
   "metadata": {},
   "outputs": [
    {
     "data": {
      "image/png": "[encoded data removed]",
      "text/plain": [
       "<Figure size 800x500 with 1 Axes>"
      ]
     },
     "metadata": {},
     "output_type": "display_data"
    }
   ],
   "source": [
    "import matplotlib.pyplot as plt\n",
    "import numpy as np\n",
    "\n",
    "# Crear eje iteraciones\n",
    "iteraciones = np.arange(1, 21)\n",
    "\n",
    "# Funciones ejemplo para cada comportamiento\n",
    "def comportamientoConvergente(x):\n",
    "    return np.exp(-0.4 * x)  # decrecimiento\n",
    "\n",
    "def comportamientoDivergente(x):\n",
    "    return np.exp(0.25 * x)  #crecimiento\n",
    "\n",
    "def comportamientoOscilante(x):\n",
    "    return np.abs(np.cos(x))  #cambio seno a coseno\n",
    "\n",
    "# Calcular valores\n",
    "valoresConvergente = comportamientoConvergente(iteraciones)\n",
    "valoresDivergente = comportamientoDivergente(iteraciones)\n",
    "valoresOscilante = comportamientoOscilante(iteraciones)\n",
    "\n",
    "# Graficar\n",
    "plt.figure(figsize=(8, 5))\n",
    "plt.plot(iteraciones, valoresConvergente, label=\"Convergente\", color=\"blue\")\n",
    "plt.plot(iteraciones, valoresDivergente, label=\"Divergente\", color=\"red\")\n",
    "plt.plot(iteraciones, valoresOscilante, label=\"Oscilante/Inestable\", color=\"purple\")\n",
    "\n",
    "plt.xlabel(\"Iteraciones\")\n",
    "plt.ylabel(\"Magnitud\")\n",
    "plt.title(\"Comportamientos: Convergente, Divergente y Oscilante\")\n",
    "plt.legend()\n",
    "plt.grid(True)\n",
    "plt.show()\n"
   ]
  },
  {
   "cell_type": "markdown",
   "id": "4ddf0dc3",
   "metadata": {},
   "source": [
    "## Criterios de parada\n",
    "\n",
    "Se utilizan dentro de los algoritmos para evitar lazos infinitos:\n",
    "\n",
    "1. **Error absoluto**: $|p_N - p_{N-1}| < \\epsilon$\n",
    "2. **Error relativo**: $\\frac{|p_N - p_{N-1}|}{|p_N|} < \\epsilon,\\quad p_N \\ne 0$\n",
    "3. **Valor de la función**: $|f(p_N)| < \\epsilon$\n",
    "4. **Número de iteraciones**: $i < K$\n",
    "5. **Tiempo máximo**: $t < T\\,[\\text{ms}]$\n"
   ]
  },
  {
   "cell_type": "code",
   "execution_count": 182,
   "id": "b7dc2517",
   "metadata": {},
   "outputs": [
    {
     "name": "stdout",
     "output_type": "stream",
     "text": [
      "Converge por f < tolerancia en la iteración 5.\n",
      "Raíz aproximada: 0.7598357377757363\n"
     ]
    }
   ],
   "source": [
    "import time\n",
    "\n",
    "def metodoNewtonRaphson3x5(x0, maxIteraciones=15, tolerancia=1e-6, tiempoMax=5):\n",
    "    \n",
    "    def f(x):\n",
    "        return 3*x**4-1\n",
    "\n",
    "    def fPrime(x):\n",
    "        return 12*x**3\n",
    "\n",
    "    x = x0\n",
    "    tiempoInicio = time.time()\n",
    "    \n",
    "    for i in range(1, maxIteraciones + 1):\n",
    "        fx = f(x)\n",
    "        fpx = fPrime(x)\n",
    "        \n",
    "        if fpx == 0:\n",
    "            print(f\"Derivada cero en la iteración {i}. No se puede continuar.\")\n",
    "            break\n",
    "\n",
    "        xNueva = x - fx / fpx\n",
    "\n",
    "        cambioX = abs(xNueva - x)\n",
    "        valorF = abs(fx)\n",
    "\n",
    "        if valorF < tolerancia:\n",
    "            print(f\"Converge por f < tolerancia en la iteración {i}.\")\n",
    "            break\n",
    "        if cambioX < tolerancia:\n",
    "            print(f\"Converge por cambio pequeño en x en la iteración {i}.\")\n",
    "            break\n",
    "        if time.time() - tiempoInicio > tiempoMax:\n",
    "            print(f\"Parada por límite de tiempo en la iteración {i}.\")\n",
    "            break\n",
    "\n",
    "        x = xNueva\n",
    "    else:\n",
    "        print(\"Parada por máximo de iteraciones.\")\n",
    "    \n",
    "    return x\n",
    "\n",
    "# Ejemplo de uso\n",
    "x0 = 1.0\n",
    "resultado = metodoNewtonRaphson3x5(x0)\n",
    "print(f\"Raíz aproximada: {resultado}\")\n"
   ]
  },
  {
   "cell_type": "markdown",
   "id": "8f4fba28",
   "metadata": {},
   "source": [
    "## Método de la bisección"
   ]
  },
  {
   "cell_type": "code",
   "execution_count": 185,
   "id": "796bd6be",
   "metadata": {},
   "outputs": [
    {
     "name": "stdout",
     "output_type": "stream",
     "text": [
      "Iter\ta\t\tb\t\tp\t\tf(a)\tf(b)\tf(p)\tTOL\n",
      "------------------------------------------------------------------------------------------\n",
      "0\t1.000000\t2.000000\t1.500000\t-\t+\t+\t0.500000\n",
      "1\t1.000000\t1.500000\t1.250000\t-\t+\t-\t0.250000\n",
      "2\t1.250000\t1.500000\t1.375000\t-\t+\t+\t0.125000\n",
      "3\t1.250000\t1.375000\t1.312500\t-\t+\t-\t0.062500\n",
      "4\t1.312500\t1.375000\t1.343750\t-\t+\t-\t0.031250\n",
      "5\t1.343750\t1.375000\t1.359375\t-\t+\t-\t0.015625\n",
      "6\t1.359375\t1.375000\t1.367188\t-\t+\t+\t0.007812\n",
      "7\t1.359375\t1.367188\t1.363281\t-\t+\t-\t0.003906\n",
      "8\t1.363281\t1.367188\t1.365234\t-\t+\t+\t0.001953\n",
      "9\t1.363281\t1.365234\t1.364258\t-\t+\t-\t0.000977\n",
      "10\t1.364258\t1.365234\t1.364746\t-\t+\t-\t0.000488\n",
      "11\t1.364746\t1.365234\t1.364990\t-\t+\t-\t0.000244\n",
      "12\t1.364990\t1.365234\t1.365112\t-\t+\t-\t0.000122\n",
      "13\t1.365112\t1.365234\t1.365173\t-\t+\t-\t0.000061\n",
      "14\t1.365173\t1.365234\t1.365204\t-\t+\t-\t0.000031\n",
      "15\t1.365204\t1.365234\t1.365219\t-\t+\t-\t0.000015\n",
      "16\t1.365219\t1.365234\t1.365227\t-\t+\t-\t0.000008\n",
      "\n",
      "Resultado final:\n",
      "Raíz encontrada: 1.36522675\n",
      "Iteraciones realizadas: 16\n",
      "Convergencia alcanzada en 16 iteraciones.\n"
     ]
    }
   ],
   "source": [
    "from math import sin, tan, exp\n",
    "def signum(x):\n",
    "    #Devuelve el signo de un número: '-', '0' o '+'\n",
    "    if x > 0:\n",
    "        return '+'\n",
    "    elif x < 0:\n",
    "        return '-'\n",
    "    return '0'\n",
    "\n",
    "def metodo_biseccion(funcion, a, b, tol, max_iteraciones):\n",
    "    # Verificar que los extremos iniciales tienen signos opuestos\n",
    "    fa = funcion(a)\n",
    "    fb = funcion(b)\n",
    "    if signum(fa) == signum(fb) and fa != 0:\n",
    "        return None, 0, \"La función debe cambiar de signo en el intervalo dado.\"\n",
    "\n",
    "    # Cabecera de la tabla de resultados\n",
    "    print(\"Iter\\ta\\t\\tb\\t\\tp\\t\\tf(a)\\tf(b)\\tf(p)\\tTOL\")\n",
    "    print(\"-\"*90)\n",
    "    \n",
    "    iteracion = 0\n",
    "    while iteracion < max_iteraciones:\n",
    "        p = (a + b) / 2\n",
    "        fp = funcion(p)\n",
    "        tol_actual = abs(b - a) / 2\n",
    "        \n",
    "        # Imprimir solo signos para f(a), f(b), f(p) para no almacenar valores grandes\n",
    "        print(f\"{iteracion}\\t{a:.6f}\\t{b:.6f}\\t{p:.6f}\\t{signum(fa)}\\t{signum(fb)}\\t{signum(fp)}\\t{tol_actual:.6f}\")\n",
    "\n",
    "        if abs(fp) < tol or tol_actual < tol:\n",
    "            return p, iteracion, f\"Convergencia alcanzada en {iteracion} iteraciones.\"\n",
    "\n",
    "        if signum(fa) == signum(fp):\n",
    "            a = p\n",
    "            fa = fp\n",
    "        else:\n",
    "            b = p\n",
    "            fb = fp\n",
    "\n",
    "        iteracion += 1\n",
    "\n",
    "    return None, iteracion, \"El proceso falló después del número máximo de iteraciones.\"\n",
    "\n",
    "# USO PARA PROBAR CON LAS FUNCIONES DADAS EN LOS EJERCICIOS\n",
    "if __name__ == \"__main__\":\n",
    "    def f(x):\n",
    "        \"\"\"Ejemplo con la primera funcion\"\"\"\n",
    "        return x**3 +4*x**2 -10\t\n",
    "\n",
    "    a, b = 1,2\n",
    "    tol = 1e-5\n",
    "    max_iter = 100\n",
    "\n",
    "    raiz, iteraciones, mensaje = metodo_biseccion(f, a, b, tol, max_iter)\n",
    "    print(\"\\nResultado final:\")\n",
    "    if raiz is not None:\n",
    "        print(f\"Raíz encontrada: {raiz:.8f}\")\n",
    "        print(f\"Iteraciones realizadas: {iteraciones}\")\n",
    "    print(mensaje)"
   ]
  },
  {
   "cell_type": "code",
   "execution_count": 4,
   "id": "312c1ab9-ec23-4183-a430-a2d04fcb192c",
   "metadata": {},
   "outputs": [
    {
     "name": "stdout",
     "output_type": "stream",
     "text": [
      "On branch master\n",
      "\n",
      "No commits yet\n",
      "\n",
      "Changes to be committed:\n",
      "  (use \"git rm --cached <file>...\" to unstage)\n",
      "\tnew file:   .ipynb_checkpoints/Untitled-checkpoint.ipynb\n",
      "\tnew file:   .ipynb_checkpoints/Untitled1-checkpoint.ipynb\n",
      "\tnew file:   .ipynb_checkpoints/apuntesMartinCusme-checkpoint.ipynb\n",
      "\tnew file:   .ipynb_checkpoints/ejercicio1-checkpoint.ipynb\n",
      "\tnew file:   .ipynb_checkpoints/ejercicio2-checkpoint.ipynb\n",
      "\tnew file:   .ipynb_checkpoints/ejercicio4-checkpoint.ipynb\n",
      "\tnew file:   .ipynb_checkpoints/informesem4-checkpoint.ipynb\n",
      "\tnew file:   Untitled.ipynb\n",
      "\tnew file:   Untitled1.ipynb\n",
      "\tnew file:   apuntesMartinCusme.ipynb\n",
      "\tnew file:   ejercicio1.ipynb\n",
      "\tnew file:   ejercicio2.ipynb\n",
      "\tnew file:   ejercicio4.ipynb\n",
      "\tnew file:   informesem4.ipynb\n",
      "\n",
      "Changes not staged for commit:\n",
      "  (use \"git add <file>...\" to update what will be committed)\n",
      "  (use \"git restore <file>...\" to discard changes in working directory)\n",
      "\tmodified:   Untitled1.ipynb\n",
      "\n"
     ]
    }
   ],
   "source": [
    "!git status\n"
   ]
  },
  {
   "cell_type": "code",
   "execution_count": null,
   "id": "65677e0c-5825-4a0d-add0-a699d73cfe9d",
   "metadata": {},
   "outputs": [],
   "source": [
    "!git remote add origin https://github.com/MartinCusme/M-todos-num-ricos-apuntes.git\n"
   ]
  }
 ],
 "metadata": {
  "kernelspec": {
   "display_name": "Python [conda env:base] *",
   "language": "python",
   "name": "conda-base-py"
  },
  "language_info": {
   "codemirror_mode": {
    "name": "ipython",
    "version": 3
   },
   "file_extension": ".py",
   "mimetype": "text/x-python",
   "name": "python",
   "nbconvert_exporter": "python",
   "pygments_lexer": "ipython3",
   "version": "3.12.7"
  }
 },
 "nbformat": 4,
 "nbformat_minor": 5
}

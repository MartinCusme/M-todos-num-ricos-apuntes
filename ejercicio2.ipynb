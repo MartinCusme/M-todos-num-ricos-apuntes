{
 "cells": [
  {
   "cell_type": "code",
   "execution_count": 1,
   "id": "8c1b385b-b738-48d7-92dc-fe5159f5f70e",
   "metadata": {},
   "outputs": [],
   "source": [
    "d = {'e001' : 'Daniela F.',\n",
    "    'e002' : 'Luis T.',\n",
    "    'e003' : 'Xavier A.',\n",
    "    'e004' : 'Rosa G.',\n",
    "    'e005' : 'Myriam L.',\n",
    "    'e006' : 'Diago S.'}"
   ]
  },
  {
   "cell_type": "code",
   "execution_count": 3,
   "id": "017cd701-9361-45cf-b44a-181fe24ecd33",
   "metadata": {},
   "outputs": [
    {
     "data": {
      "text/plain": [
       "{'e001': 'Daniela F.',\n",
       " 'e002': 'Luis T.',\n",
       " 'e003': 'Xavier A.',\n",
       " 'e004': 'Rosa G.',\n",
       " 'e005': 'Myriam L.',\n",
       " 'e006': 'Diago S.'}"
      ]
     },
     "execution_count": 3,
     "metadata": {},
     "output_type": "execute_result"
    }
   ],
   "source": [
    "d"
   ]
  },
  {
   "cell_type": "code",
   "execution_count": 5,
   "id": "74138d1e-b09f-471a-bd69-9cb80b3d6f4f",
   "metadata": {},
   "outputs": [
    {
     "data": {
      "text/plain": [
       "'Myriam L.'"
      ]
     },
     "execution_count": 5,
     "metadata": {},
     "output_type": "execute_result"
    }
   ],
   "source": [
    "d['e005']"
   ]
  },
  {
   "cell_type": "code",
   "execution_count": 7,
   "id": "d84e0ce8-59d1-4781-87e2-102891855fbb",
   "metadata": {},
   "outputs": [
    {
     "data": {
      "text/plain": [
       "dict_keys(['e001', 'e002', 'e003', 'e004', 'e005', 'e006'])"
      ]
     },
     "execution_count": 7,
     "metadata": {},
     "output_type": "execute_result"
    }
   ],
   "source": [
    "d.keys()"
   ]
  },
  {
   "cell_type": "code",
   "execution_count": 9,
   "id": "8e370bdf-225e-4f0c-8a84-702550779550",
   "metadata": {},
   "outputs": [
    {
     "data": {
      "text/plain": [
       "dict_values(['Daniela F.', 'Luis T.', 'Xavier A.', 'Rosa G.', 'Myriam L.', 'Diago S.'])"
      ]
     },
     "execution_count": 9,
     "metadata": {},
     "output_type": "execute_result"
    }
   ],
   "source": [
    "d.values()"
   ]
  },
  {
   "cell_type": "code",
   "execution_count": 11,
   "id": "b15d0777-e1a3-4590-a8f3-d9984ddd8cba",
   "metadata": {},
   "outputs": [
    {
     "name": "stdout",
     "output_type": "stream",
     "text": [
      "e001\n",
      "e002\n",
      "e003\n",
      "e004\n",
      "e005\n",
      "e006\n"
     ]
    }
   ],
   "source": [
    "for item  in d:\n",
    "    print(item)"
   ]
  },
  {
   "cell_type": "code",
   "execution_count": 15,
   "id": "cf7b85a2-b51c-471c-b570-61c60fcc2978",
   "metadata": {},
   "outputs": [
    {
     "data": {
      "text/plain": [
       "dict_items([('e001', 'Daniela F.'), ('e002', 'Luis T.'), ('e003', 'Xavier A.'), ('e004', 'Rosa G.'), ('e005', 'Myriam L.'), ('e006', 'Diago S.')])"
      ]
     },
     "execution_count": 15,
     "metadata": {},
     "output_type": "execute_result"
    }
   ],
   "source": [
    "d.items()"
   ]
  },
  {
   "cell_type": "code",
   "execution_count": 17,
   "id": "eb9b6dc2-389d-43d2-b9f0-a2c178651750",
   "metadata": {},
   "outputs": [
    {
     "name": "stdout",
     "output_type": "stream",
     "text": [
      "('e001', 'Daniela F.')\n",
      "\n",
      "('e002', 'Luis T.')\n",
      "\n",
      "('e003', 'Xavier A.')\n",
      "\n",
      "('e004', 'Rosa G.')\n",
      "\n",
      "('e005', 'Myriam L.')\n",
      "\n",
      "('e006', 'Diago S.')\n",
      "\n"
     ]
    }
   ],
   "source": [
    "for elemento in d.items():\n",
    "    print(elemento)\n",
    "    print ()"
   ]
  },
  {
   "cell_type": "code",
   "execution_count": 29,
   "id": "0c4f9765-34e5-4037-ae5b-6d2faff090ec",
   "metadata": {},
   "outputs": [
    {
     "name": "stdout",
     "output_type": "stream",
     "text": [
      "e001\n",
      "Daniela F.\n",
      "\n",
      "e002\n",
      "Luis T.\n",
      "\n",
      "e003\n",
      "Xavier A.\n",
      "\n",
      "e004\n",
      "Rosa G.\n",
      "\n",
      "e005\n",
      "Myriam L.\n",
      "\n",
      "e006\n",
      "Diago S.\n",
      "\n"
     ]
    }
   ],
   "source": [
    "for clave, valor in d.items():\n",
    "    print(clave)\n",
    "    print (valor)\n",
    "    print()"
   ]
  },
  {
   "cell_type": "code",
   "execution_count": 35,
   "id": "2c1df999-91f5-4fdb-914f-2d42307fd82f",
   "metadata": {},
   "outputs": [
    {
     "ename": "IndentationError",
     "evalue": "expected an indented block after 'if' statement on line 2 (2964724261.py, line 3)",
     "output_type": "error",
     "traceback": [
      "\u001b[1;36m  Cell \u001b[1;32mIn[35], line 3\u001b[1;36m\u001b[0m\n\u001b[1;33m    valorN = valor.replace('T.','Z.')\u001b[0m\n\u001b[1;37m    ^\u001b[0m\n\u001b[1;31mIndentationError\u001b[0m\u001b[1;31m:\u001b[0m expected an indented block after 'if' statement on line 2\n"
     ]
    }
   ],
   "source": [
    "for clave, valor in d.items():\n",
    "    if valor.endswith('T.'):\n",
    "    valorN = valor.replace('T.','Z.')\n",
    "    print(valor)"
   ]
  },
  {
   "cell_type": "code",
   "execution_count": null,
   "id": "4adf1b8d-5ea4-4508-aa5d-bc09666618a2",
   "metadata": {},
   "outputs": [],
   "source": []
  }
 ],
 "metadata": {
  "kernelspec": {
   "display_name": "Python [conda env:base] *",
   "language": "python",
   "name": "conda-base-py"
  },
  "language_info": {
   "codemirror_mode": {
    "name": "ipython",
    "version": 3
   },
   "file_extension": ".py",
   "mimetype": "text/x-python",
   "name": "python",
   "nbconvert_exporter": "python",
   "pygments_lexer": "ipython3",
   "version": "3.12.7"
  }
 },
 "nbformat": 4,
 "nbformat_minor": 5
}

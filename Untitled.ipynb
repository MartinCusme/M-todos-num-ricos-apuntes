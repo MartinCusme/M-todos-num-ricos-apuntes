{
 "cells": [
  {
   "cell_type": "code",
   "execution_count": 3,
   "id": "6ba5b58d-b7c7-4a1d-8008-84863b9ac125",
   "metadata": {},
   "outputs": [],
   "source": [
    "x = [8,3,4,2,6,7,5,4]"
   ]
  },
  {
   "cell_type": "code",
   "execution_count": 37,
   "id": "03af7f6d-d111-47a5-a5cf-c389c69d6ef1",
   "metadata": {},
   "outputs": [
    {
     "name": "stdout",
     "output_type": "stream",
     "text": [
      "La suma es: 39\n"
     ]
    }
   ],
   "source": [
    "def sumar(x):\n",
    "    if not x: \n",
    "        return 0\n",
    "    else:\n",
    "        return x[0] + sumar(x[1:])\n",
    "print(\"La suma es:\",sumar(x))"
   ]
  },
  {
   "cell_type": "code",
   "execution_count": null,
   "id": "6446342b-1cfb-4da3-9043-a4a672638fdf",
   "metadata": {},
   "outputs": [],
   "source": []
  }
 ],
 "metadata": {
  "kernelspec": {
   "display_name": "Python [conda env:base] *",
   "language": "python",
   "name": "conda-base-py"
  },
  "language_info": {
   "codemirror_mode": {
    "name": "ipython",
    "version": 3
   },
   "file_extension": ".py",
   "mimetype": "text/x-python",
   "name": "python",
   "nbconvert_exporter": "python",
   "pygments_lexer": "ipython3",
   "version": "3.12.7"
  }
 },
 "nbformat": 4,
 "nbformat_minor": 5
}

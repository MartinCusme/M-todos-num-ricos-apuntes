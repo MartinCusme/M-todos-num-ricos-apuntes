{
 "cells": [
  {
   "cell_type": "raw",
   "id": "4c18b729-16b3-4197-98d8-95da52ccd8a2",
   "metadata": {},
   "source": [
    "---\n",
    "title: \"Test Quarto\"\n",
    " author: \"Martín Cusme\"\n",
    " lang: es\n",
    " format: \n",
    "pdf:\n",
    " toc: true\n",
    " toc-title: \"Tabla de Contenidos\"  \n",
    "execute:\n",
    " echo: true\n",
    " error: false\n",
    " warning: false\n",
    " jupyter: python3\n",
    "---"
   ]
  },
  {
   "cell_type": "code",
   "execution_count": 47,
   "id": "6da6b1f3-4018-4873-9c5d-0a6c18f0cb12",
   "metadata": {},
   "outputs": [],
   "source": [
    "parents = {0: None, 1: None, 2: None, 3: None, 4: None, 5: None}\n",
    "searched = {0: False, 1: False, 2: False, 3: False, 4: False, 5: False}\n"
   ]
  },
  {
   "cell_type": "code",
   "execution_count": null,
   "id": "7102915a-d08d-4abf-81f9-1e6aebe0d55e",
   "metadata": {},
   "outputs": [],
   "source": [
    "def searchBFS(start):\n",
    "    search_queue = deque();"
   ]
  }
 ],
 "metadata": {
  "kernelspec": {
   "display_name": "Python [conda env:base] *",
   "language": "python",
   "name": "conda-base-py"
  },
  "language_info": {
   "codemirror_mode": {
    "name": "ipython",
    "version": 3
   },
   "file_extension": ".py",
   "mimetype": "text/x-python",
   "name": "python",
   "nbconvert_exporter": "python",
   "pygments_lexer": "ipython3",
   "version": "3.12.7"
  }
 },
 "nbformat": 4,
 "nbformat_minor": 5
}

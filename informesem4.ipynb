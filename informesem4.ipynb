{
 "cells": [
  {
   "cell_type": "code",
   "execution_count": 17,
   "id": "b75c26ec-3093-4b80-ac97-ce364eace853",
   "metadata": {},
   "outputs": [
    {
     "name": "stdout",
     "output_type": "stream",
     "text": [
      "a. Sí\n",
      "b. Ruta: CAR → CAT → BAT\n",
      "c. Árbol BFS:\n",
      "CAR → CAB\n",
      "CAR → CAT\n",
      "CAB → BAB\n",
      "CAT → MAT\n",
      "CAT → BAT\n"
     ]
    }
   ],
   "source": [
    "from collections import deque\n",
    "\n",
    "# Grafo representado como diccionario\n",
    "mapa = {\n",
    "    \"CAR\": [\"CAB\", \"CAT\"],\n",
    "    \"CAB\": [\"CAT\", \"BAB\"],\n",
    "    \"CAT\": [\"MAT\", \"BAT\"],\n",
    "    \"MAT\": [\"BAT\"],\n",
    "    \"BAB\": [\"BAT\"],\n",
    "    \"BAT\": []\n",
    "}\n",
    "\n",
    "def recorrido_bfs(grafo, inicio, fin):\n",
    "    visitados, cola, arbol = set(), deque([[inicio]]), {}\n",
    "    while cola:\n",
    "        camino = cola.popleft()\n",
    "        nodo = camino[-1]\n",
    "        if nodo not in visitados:\n",
    "            visitados.add(nodo)\n",
    "            if len(camino) > 1:\n",
    "                arbol.setdefault(camino[-2], []).append(nodo)\n",
    "            if nodo == fin:\n",
    "                return camino, arbol\n",
    "            for vecino in grafo.get(nodo, []):\n",
    "                cola.append(camino + [vecino])\n",
    "    return None, arbol\n",
    "\n",
    "# Ejecutar\n",
    "ruta, arbol_bfs = recorrido_bfs(mapa, \"CAR\", \"BAT\")\n",
    "\n",
    "# Resultados\n",
    "print(\"a.\", \"Sí\" if ruta else \"No\")\n",
    "if ruta:\n",
    "    print(\"b. Ruta:\", \" → \".join(ruta))\n",
    "\n",
    "print(\"c. Árbol BFS:\")\n",
    "for padre in arbol_bfs:\n",
    "    for hijo in arbol_bfs[padre]:\n",
    "        print(f\"{padre} → {hijo}\")\n"
   ]
  },
  {
   "cell_type": "code",
   "execution_count": null,
   "id": "61aea87f-931a-44ef-b56c-d38b4e1722c4",
   "metadata": {},
   "outputs": [],
   "source": []
  }
 ],
 "metadata": {
  "kernelspec": {
   "display_name": "Python [conda env:base] *",
   "language": "python",
   "name": "conda-base-py"
  },
  "language_info": {
   "codemirror_mode": {
    "name": "ipython",
    "version": 3
   },
   "file_extension": ".py",
   "mimetype": "text/x-python",
   "name": "python",
   "nbconvert_exporter": "python",
   "pygments_lexer": "ipython3",
   "version": "3.12.7"
  }
 },
 "nbformat": 4,
 "nbformat_minor": 5
}

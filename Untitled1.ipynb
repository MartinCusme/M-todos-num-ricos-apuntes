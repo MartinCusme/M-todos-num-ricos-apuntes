{
 "cells": [
  {
   "cell_type": "code",
   "execution_count": 1,
   "id": "5d41a7c0-f8a5-4a33-9110-33e803b1ca4e",
   "metadata": {},
   "outputs": [
    {
     "name": "stdout",
     "output_type": "stream",
     "text": [
      "/c/Users/ASUS/Documents/EDA 2\n"
     ]
    },
    {
     "name": "stderr",
     "output_type": "stream",
     "text": [
      "pwd: ignoring non-option arguments\n"
     ]
    }
   ],
   "source": [
    "!pwd  # Verifica tu ruta actual\n"
   ]
  },
  {
   "cell_type": "code",
   "execution_count": 6,
   "id": "2bd36a6c-d840-4b1f-ba21-06da29e09421",
   "metadata": {},
   "outputs": [
    {
     "name": "stdout",
     "output_type": "stream",
     "text": [
      "Initialized empty Git repository in C:/Users/ASUS/Documents/EDA 2/.git/\n"
     ]
    },
    {
     "name": "stderr",
     "output_type": "stream",
     "text": [
      "hint: Using 'master' as the name for the initial branch. This default branch name\n",
      "hint: is subject to change. To configure the initial branch name to use in all\n",
      "hint: of your new repositories, which will suppress this warning, call:\n",
      "hint:\n",
      "hint: \tgit config --global init.defaultBranch <name>\n",
      "hint:\n",
      "hint: Names commonly chosen instead of 'master' are 'main', 'trunk' and\n",
      "hint: 'development'. The just-created branch can be renamed via this command:\n",
      "hint:\n",
      "hint: \tgit branch -m <name>\n"
     ]
    }
   ],
   "source": [
    "!git init\n"
   ]
  },
  {
   "cell_type": "code",
   "execution_count": null,
   "id": "d70d7db8-2b73-46a8-aced-e58340398261",
   "metadata": {},
   "outputs": [],
   "source": []
  }
 ],
 "metadata": {
  "kernelspec": {
   "display_name": "Python [conda env:base] *",
   "language": "python",
   "name": "conda-base-py"
  },
  "language_info": {
   "codemirror_mode": {
    "name": "ipython",
    "version": 3
   },
   "file_extension": ".py",
   "mimetype": "text/x-python",
   "name": "python",
   "nbconvert_exporter": "python",
   "pygments_lexer": "ipython3",
   "version": "3.12.7"
  }
 },
 "nbformat": 4,
 "nbformat_minor": 5
}

{
 "cells": [
  {
   "cell_type": "code",
   "execution_count": 1,
   "id": "617e4e57-0074-4e2d-b0c7-0fcbb25b9b6e",
   "metadata": {},
   "outputs": [],
   "source": [
    "x = 10"
   ]
  },
  {
   "cell_type": "code",
   "execution_count": 3,
   "id": "ec2a1af0-067f-44f6-90e7-23ad3c187eb5",
   "metadata": {},
   "outputs": [
    {
     "data": {
      "text/plain": [
       "int"
      ]
     },
     "execution_count": 3,
     "metadata": {},
     "output_type": "execute_result"
    }
   ],
   "source": [
    "type(x)"
   ]
  },
  {
   "cell_type": "code",
   "execution_count": 7,
   "id": "9754fa64-ea7b-4cab-b8ee-88c2bec578ba",
   "metadata": {},
   "outputs": [
    {
     "data": {
      "text/plain": [
       "10"
      ]
     },
     "execution_count": 7,
     "metadata": {},
     "output_type": "execute_result"
    }
   ],
   "source": [
    "x"
   ]
  },
  {
   "cell_type": "code",
   "execution_count": 9,
   "id": "17945be5-e647-45c2-8cda-ab5de07d18a9",
   "metadata": {},
   "outputs": [
    {
     "data": {
      "text/plain": [
       "False"
      ]
     },
     "execution_count": 9,
     "metadata": {},
     "output_type": "execute_result"
    }
   ],
   "source": [
    "x > 20"
   ]
  },
  {
   "cell_type": "code",
   "execution_count": 11,
   "id": "ab9cba49-3471-41c0-8839-ae62b842ea9c",
   "metadata": {},
   "outputs": [
    {
     "name": "stdout",
     "output_type": "stream",
     "text": [
      "10\n"
     ]
    }
   ],
   "source": [
    "print(x)"
   ]
  },
  {
   "cell_type": "code",
   "execution_count": 13,
   "id": "50a39985-4338-4ef3-a674-03f1fe94d9f6",
   "metadata": {},
   "outputs": [
    {
     "name": "stdout",
     "output_type": "stream",
     "text": [
      "La variable tiene el valor de 10 del tipo <class 'int'> el doble es 20\n"
     ]
    }
   ],
   "source": [
    "print('La variable tiene el valor de', x, 'del tipo', type(x), 'el doble es', x*2)"
   ]
  },
  {
   "cell_type": "code",
   "execution_count": 15,
   "id": "7493013d-4e13-4552-8af9-fb404891245f",
   "metadata": {},
   "outputs": [
    {
     "name": "stdin",
     "output_type": "stream",
     "text": [
      "Ingrese su nombre: Martin Cusme\n"
     ]
    }
   ],
   "source": [
    "nombre = input('Ingrese su nombre:')"
   ]
  },
  {
   "cell_type": "code",
   "execution_count": 17,
   "id": "88a1db22-9a30-48a6-82c4-b3abea56f81b",
   "metadata": {},
   "outputs": [
    {
     "data": {
      "text/plain": [
       "'Martin Cusme'"
      ]
     },
     "execution_count": 17,
     "metadata": {},
     "output_type": "execute_result"
    }
   ],
   "source": [
    "nombre"
   ]
  },
  {
   "cell_type": "code",
   "execution_count": 19,
   "id": "77bed89c-c066-46b1-b419-28dec05ed334",
   "metadata": {},
   "outputs": [
    {
     "data": {
      "text/plain": [
       "str"
      ]
     },
     "execution_count": 19,
     "metadata": {},
     "output_type": "execute_result"
    }
   ],
   "source": [
    "type(nombre)"
   ]
  },
  {
   "cell_type": "code",
   "execution_count": 27,
   "id": "26b9cc67-a252-4a46-a95f-d7f3320d8912",
   "metadata": {},
   "outputs": [
    {
     "name": "stdin",
     "output_type": "stream",
     "text": [
      "ingrese el primer numero: 10\n",
      "ingrese el segundo numero: 20\n"
     ]
    },
    {
     "name": "stdout",
     "output_type": "stream",
     "text": [
      "30\n"
     ]
    }
   ],
   "source": [
    "num1=int(input('ingrese el primer numero:'))\n",
    "num2=int(input('ingrese el segundo numero:'))\n",
    "\n",
    "print(num1+num2)"
   ]
  },
  {
   "cell_type": "code",
   "execution_count": 29,
   "id": "e3fbd7a4-6ec2-45a4-aa3c-27a32c4c0308",
   "metadata": {},
   "outputs": [],
   "source": [
    "dias=['lunes', 'martes','miercoles','jueves','viernes']"
   ]
  },
  {
   "cell_type": "code",
   "execution_count": 31,
   "id": "82c782a8-8df4-4a4d-aa35-4ca5f9d07dc6",
   "metadata": {},
   "outputs": [
    {
     "data": {
      "text/plain": [
       "list"
      ]
     },
     "execution_count": 31,
     "metadata": {},
     "output_type": "execute_result"
    }
   ],
   "source": [
    "type(dias)"
   ]
  },
  {
   "cell_type": "code",
   "execution_count": 35,
   "id": "3d1ba5e7-ad63-4c67-89fe-c3dd19c6a010",
   "metadata": {},
   "outputs": [
    {
     "data": {
      "text/plain": [
       "5"
      ]
     },
     "execution_count": 35,
     "metadata": {},
     "output_type": "execute_result"
    }
   ],
   "source": [
    "len(dias)"
   ]
  },
  {
   "cell_type": "code",
   "execution_count": 41,
   "id": "078cc4ba-0063-4de9-847e-1740da30e42f",
   "metadata": {},
   "outputs": [
    {
     "data": {
      "text/plain": [
       "'lunes'"
      ]
     },
     "execution_count": 41,
     "metadata": {},
     "output_type": "execute_result"
    }
   ],
   "source": [
    "dias[0]"
   ]
  },
  {
   "cell_type": "code",
   "execution_count": 43,
   "id": "f6d496f5-87fb-4c89-9ab5-51cb49da6adf",
   "metadata": {},
   "outputs": [
    {
     "data": {
      "text/plain": [
       "['lunes', 'martes', 'miercoles', 'jueves']"
      ]
     },
     "execution_count": 43,
     "metadata": {},
     "output_type": "execute_result"
    }
   ],
   "source": [
    "dias[0:4]"
   ]
  },
  {
   "cell_type": "code",
   "execution_count": 45,
   "id": "c7d41e67-9d2a-409c-9226-b9d5585274c0",
   "metadata": {},
   "outputs": [
    {
     "data": {
      "text/plain": [
       "['martes', 'miercoles', 'jueves', 'viernes']"
      ]
     },
     "execution_count": 45,
     "metadata": {},
     "output_type": "execute_result"
    }
   ],
   "source": [
    "dias[1:5]"
   ]
  },
  {
   "cell_type": "code",
   "execution_count": 49,
   "id": "602f04e2-a543-4f34-87b8-08f8b85d0704",
   "metadata": {},
   "outputs": [
    {
     "data": {
      "text/plain": [
       "['lunes', 'martes', 'miercoles', 'jueves', 'viernes']"
      ]
     },
     "execution_count": 49,
     "metadata": {},
     "output_type": "execute_result"
    }
   ],
   "source": [
    "dias[0:]"
   ]
  },
  {
   "cell_type": "code",
   "execution_count": 55,
   "id": "fa5f0dcf-fd3c-4f82-a812-7d5799642928",
   "metadata": {},
   "outputs": [
    {
     "data": {
      "text/plain": [
       "\u001b[1;31mSignature:\u001b[0m \u001b[0mdias\u001b[0m\u001b[1;33m.\u001b[0m\u001b[0mappend\u001b[0m\u001b[1;33m(\u001b[0m\u001b[0mobject\u001b[0m\u001b[1;33m,\u001b[0m \u001b[1;33m/\u001b[0m\u001b[1;33m)\u001b[0m\u001b[1;33m\u001b[0m\u001b[1;33m\u001b[0m\u001b[0m\n",
       "\u001b[1;31mDocstring:\u001b[0m Append object to the end of the list.\n",
       "\u001b[1;31mType:\u001b[0m      builtin_function_or_method"
      ]
     },
     "metadata": {},
     "output_type": "display_data"
    }
   ],
   "source": [
    "dias.append?"
   ]
  },
  {
   "cell_type": "code",
   "execution_count": 57,
   "id": "64e0d09d-6c80-41a6-bc75-08c048156f3d",
   "metadata": {},
   "outputs": [],
   "source": [
    "dias.append('domingo')"
   ]
  },
  {
   "cell_type": "code",
   "execution_count": 59,
   "id": "092599cf-5486-4a0a-84aa-7547a108535a",
   "metadata": {},
   "outputs": [
    {
     "data": {
      "text/plain": [
       "['lunes', 'martes', 'miercoles', 'jueves', 'viernes', 'domingo']"
      ]
     },
     "execution_count": 59,
     "metadata": {},
     "output_type": "execute_result"
    }
   ],
   "source": [
    "dias"
   ]
  },
  {
   "cell_type": "code",
   "execution_count": 61,
   "id": "4c364fed-43e2-4848-aa72-ee4adf48f21f",
   "metadata": {},
   "outputs": [
    {
     "data": {
      "text/plain": [
       "'viernes'"
      ]
     },
     "execution_count": 61,
     "metadata": {},
     "output_type": "execute_result"
    }
   ],
   "source": [
    "dias[-2]"
   ]
  },
  {
   "cell_type": "code",
   "execution_count": 63,
   "id": "8e1d85ce-f161-4c11-b81e-ef958bfc9863",
   "metadata": {},
   "outputs": [],
   "source": [
    "item = dias.pop()"
   ]
  },
  {
   "cell_type": "code",
   "execution_count": 65,
   "id": "586be838-2823-4bd7-9fc4-b596acc1b1ec",
   "metadata": {},
   "outputs": [
    {
     "data": {
      "text/plain": [
       "'domingo'"
      ]
     },
     "execution_count": 65,
     "metadata": {},
     "output_type": "execute_result"
    }
   ],
   "source": [
    "item"
   ]
  },
  {
   "cell_type": "code",
   "execution_count": 67,
   "id": "11f517d1-aa5c-4fb5-a07d-cc046337b86e",
   "metadata": {},
   "outputs": [
    {
     "data": {
      "text/plain": [
       "['lunes', 'martes', 'miercoles', 'jueves', 'viernes']"
      ]
     },
     "execution_count": 67,
     "metadata": {},
     "output_type": "execute_result"
    }
   ],
   "source": [
    "dias"
   ]
  },
  {
   "cell_type": "code",
   "execution_count": 69,
   "id": "cde50513-c74e-47e5-96b3-26f4d7dd4cae",
   "metadata": {},
   "outputs": [],
   "source": [
    "item1=dias.pop(1)"
   ]
  },
  {
   "cell_type": "code",
   "execution_count": 71,
   "id": "e644cf91-8ead-49f7-ac34-96aa18e76d1f",
   "metadata": {},
   "outputs": [
    {
     "data": {
      "text/plain": [
       "'martes'"
      ]
     },
     "execution_count": 71,
     "metadata": {},
     "output_type": "execute_result"
    }
   ],
   "source": [
    "item1"
   ]
  },
  {
   "cell_type": "code",
   "execution_count": 73,
   "id": "b6b9d0cf-8391-48b5-bdf1-6cc5ddb76f40",
   "metadata": {},
   "outputs": [
    {
     "data": {
      "text/plain": [
       "['lunes', 'miercoles', 'jueves', 'viernes']"
      ]
     },
     "execution_count": 73,
     "metadata": {},
     "output_type": "execute_result"
    }
   ],
   "source": [
    "dias"
   ]
  },
  {
   "cell_type": "code",
   "execution_count": 75,
   "id": "8dd4c595-4f93-46df-90c2-988a8ae52bdb",
   "metadata": {},
   "outputs": [],
   "source": [
    "dias.append(['martes','domingo'])"
   ]
  },
  {
   "cell_type": "code",
   "execution_count": 77,
   "id": "358ff1f7-aed1-4477-86ac-c6646997b887",
   "metadata": {},
   "outputs": [
    {
     "data": {
      "text/plain": [
       "['lunes', 'miercoles', 'jueves', 'viernes', ['martes', 'domingo']]"
      ]
     },
     "execution_count": 77,
     "metadata": {},
     "output_type": "execute_result"
    }
   ],
   "source": [
    "dias"
   ]
  },
  {
   "cell_type": "code",
   "execution_count": 79,
   "id": "7eab4b63-23db-4b34-8aa4-a869a9993f91",
   "metadata": {},
   "outputs": [
    {
     "data": {
      "text/plain": [
       "['martes', 'domingo']"
      ]
     },
     "execution_count": 79,
     "metadata": {},
     "output_type": "execute_result"
    }
   ],
   "source": [
    "dias[-1]"
   ]
  },
  {
   "cell_type": "code",
   "execution_count": 81,
   "id": "4deb7432-f9c6-4e89-81da-a18b5292b1ff",
   "metadata": {},
   "outputs": [
    {
     "data": {
      "text/plain": [
       "'domingo'"
      ]
     },
     "execution_count": 81,
     "metadata": {},
     "output_type": "execute_result"
    }
   ],
   "source": [
    "dias[-1][-1]"
   ]
  },
  {
   "cell_type": "code",
   "execution_count": 99,
   "id": "1b091282-358f-4870-a0f3-314f70ca5953",
   "metadata": {},
   "outputs": [
    {
     "data": {
      "text/plain": [
       "['lunes', 'miercoles', 'jueves', 'viernes', ['martes', 'domingo']]"
      ]
     },
     "execution_count": 99,
     "metadata": {},
     "output_type": "execute_result"
    }
   ],
   "source": [
    "dias"
   ]
  },
  {
   "cell_type": "code",
   "execution_count": 105,
   "id": "9ed4278e-433c-4a6e-b789-87ab5cea8aed",
   "metadata": {},
   "outputs": [
    {
     "name": "stdout",
     "output_type": "stream",
     "text": [
      "luneslunes////miercolesmiercoles////juevesjueves////viernesviernes////['martes', 'domingo', 'martes', 'domingo']////"
     ]
    }
   ],
   "source": [
    "for elemento in dias:\n",
    "        print(elemento*2, end = '////')"
   ]
  },
  {
   "cell_type": "code",
   "execution_count": 127,
   "id": "365d8ad8-8a90-4177-aed9-6cfd866fd8a9",
   "metadata": {},
   "outputs": [
    {
     "name": "stdin",
     "output_type": "stream",
     "text": [
      "ingrese un numero par: 4\n"
     ]
    },
    {
     "name": "stdout",
     "output_type": "stream",
     "text": [
      "el numero 4 es par\n"
     ]
    }
   ],
   "source": [
    "num = int(input('ingrese un numero par:'))\n",
    "if(num == 0):\n",
    "    print('el valor es 0')\n",
    "elif(num % 2 == 0):\n",
    "    print('el numero', num, 'es par')\n",
    "else:\n",
    "    print('el numero', num, 'no es par')"
   ]
  },
  {
   "cell_type": "code",
   "execution_count": 135,
   "id": "4198014a-dd8b-424e-b905-afd918eb3ec1",
   "metadata": {},
   "outputs": [
    {
     "name": "stdout",
     "output_type": "stream",
     "text": [
      "senreiv se yoh"
     ]
    }
   ],
   "source": [
    "cadena = 'hoy es viernes'\n",
    "contador = len(cadena) - 1\n",
    "\n",
    "while contador >= 0:\n",
    "    print(cadena[contador], end='')\n",
    "    contador -= 1\n"
   ]
  }
 ],
 "metadata": {
  "kernelspec": {
   "display_name": "Python [conda env:base] *",
   "language": "python",
   "name": "conda-base-py"
  },
  "language_info": {
   "codemirror_mode": {
    "name": "ipython",
    "version": 3
   },
   "file_extension": ".py",
   "mimetype": "text/x-python",
   "name": "python",
   "nbconvert_exporter": "python",
   "pygments_lexer": "ipython3",
   "version": "3.12.7"
  }
 },
 "nbformat": 4,
 "nbformat_minor": 5
}
